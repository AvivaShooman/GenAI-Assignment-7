{
 "cells": [
  {
   "cell_type": "code",
   "execution_count": 8,
   "id": "4a250a0c",
   "metadata": {},
   "outputs": [],
   "source": [
    "# !pip install pypdf"
   ]
  },
  {
   "cell_type": "code",
   "execution_count": 5,
   "id": "c8d5d838",
   "metadata": {},
   "outputs": [],
   "source": [
    "import os\n",
    "from langchain.text_splitter import CharacterTextSplitter\n",
    "from langchain_community.document_loaders import PyPDFLoader  # Changed from PDFLoader to PyPDFLoader\n",
    "from langchain_community.vectorstores import Chroma\n",
    "from langchain.embeddings import HuggingFaceEmbeddings"
   ]
  },
  {
   "cell_type": "code",
   "execution_count": null,
   "id": "59aa6b5d",
   "metadata": {},
   "outputs": [
    {
     "name": "stdout",
     "output_type": "stream",
     "text": [
      "--- Loading PDF document ---\n",
      "Loaded 374 pages from PDF\n"
     ]
    }
   ],
   "source": [
    "pdf_path = \"./Data/Startup Course Text Data.pdf\" \n",
    "\n",
    "print(\"--- Loading PDF document ---\")\n",
    "loader = PyPDFLoader(pdf_path) \n",
    "documents = loader.load()\n",
    "\n",
    "print(f\"Loaded {len(documents)} pages from PDF\")"
   ]
  },
  {
   "cell_type": "code",
   "execution_count": 11,
   "id": "b15ea290",
   "metadata": {},
   "outputs": [],
   "source": [
    "text_splitter = CharacterTextSplitter(chunk_size=1000, chunk_overlap=200)  # Adding some overlap for better context\n",
    "docs = text_splitter.split_documents(documents)"
   ]
  },
  {
   "cell_type": "code",
   "execution_count": 12,
   "id": "4184c70e",
   "metadata": {},
   "outputs": [
    {
     "name": "stdout",
     "output_type": "stream",
     "text": [
      "\n",
      "--- Document Chunks Information ---\n",
      "Number of document chunks: 374\n"
     ]
    }
   ],
   "source": [
    "print(\"\\n--- Document Chunks Information ---\")\n",
    "print(f\"Number of document chunks: {len(docs)}\")"
   ]
  },
  {
   "cell_type": "code",
   "execution_count": null,
   "id": "8886f7e4",
   "metadata": {},
   "outputs": [],
   "source": [
    "def create_vector_store(docs, embeddings, store_name):\n",
    "    persistent_directory = \"./VectorStores\" + store_name\n",
    "\n",
    "    print(f\"\\n--- Creating vector store {store_name} ---\")\n",
    "\n",
    "    Chroma.from_documents(docs, embeddings, persist_directory=persistent_directory)\n",
    "    \n",
    "    print(f\"--- Finished creating vector store {store_name} ---\")"
   ]
  },
  {
   "cell_type": "code",
   "execution_count": 14,
   "id": "77d8aeb7",
   "metadata": {},
   "outputs": [
    {
     "name": "stderr",
     "output_type": "stream",
     "text": [
      "d:\\anaconda\\envs\\bot\\lib\\site-packages\\sentence_transformers\\cross_encoder\\CrossEncoder.py:11: TqdmWarning: IProgress not found. Please update jupyter and ipywidgets. See https://ipywidgets.readthedocs.io/en/stable/user_install.html\n",
      "  from tqdm.autonotebook import tqdm, trange\n"
     ]
    }
   ],
   "source": [
    "huggingface_embeddings = HuggingFaceEmbeddings(\n",
    "    model_name=\"sentence-transformers/all-mpnet-base-v2\"\n",
    ")"
   ]
  },
  {
   "cell_type": "code",
   "execution_count": 15,
   "id": "c8ccf1eb",
   "metadata": {},
   "outputs": [
    {
     "name": "stdout",
     "output_type": "stream",
     "text": [
      "\n",
      "--- Creating vector store /startup_masterclass_vector_store ---\n",
      "--- Finished creating vector store /startup_masterclass_vector_store ---\n"
     ]
    }
   ],
   "source": [
    "# Create the vector store for the startup masterclass\n",
    "create_vector_store(docs, huggingface_embeddings, \"/startup_masterclass_vector_store\")"
   ]
  },
  {
   "cell_type": "code",
   "execution_count": null,
   "id": "04f311c2",
   "metadata": {},
   "outputs": [],
   "source": []
  }
 ],
 "metadata": {
  "kernelspec": {
   "display_name": "bot",
   "language": "python",
   "name": "python3"
  },
  "language_info": {
   "codemirror_mode": {
    "name": "ipython",
    "version": 3
   },
   "file_extension": ".py",
   "mimetype": "text/x-python",
   "name": "python",
   "nbconvert_exporter": "python",
   "pygments_lexer": "ipython3",
   "version": "3.10.14"
  }
 },
 "nbformat": 4,
 "nbformat_minor": 5
}
