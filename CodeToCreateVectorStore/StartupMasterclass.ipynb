{
 "cells": [
  {
   "metadata": {},
   "cell_type": "code",
   "outputs": [
    {
     "name": "stdout",
     "output_type": "stream",
     "text": [
      "Requirement already satisfied: pypdf in /Users/avivashooman/Downloads/GenAI_project-main_new copy/GenAIProjectCopy/.venv/lib/python3.10/site-packages (5.4.0)\r\n",
      "Requirement already satisfied: typing_extensions>=4.0 in /Users/avivashooman/Downloads/GenAI_project-main_new copy/GenAIProjectCopy/.venv/lib/python3.10/site-packages (from pypdf) (4.13.1)\r\n"
     ]
    }
   ],
   "execution_count": 7,
   "source": "!pip install pypdf",
   "id": "4a250a0c"
  },
  {
   "metadata": {},
   "cell_type": "code",
   "outputs": [],
   "execution_count": 8,
   "source": [
    "import os\n",
    "from langchain.text_splitter import CharacterTextSplitter\n",
    "from langchain_community.document_loaders import PyPDFLoader  # Changed from PDFLoader to PyPDFLoader\n",
    "from langchain_community.vectorstores import Chroma\n",
    "from langchain.embeddings import HuggingFaceEmbeddings"
   ],
   "id": "c8d5d838"
  },
  {
   "metadata": {},
   "cell_type": "code",
   "outputs": [
    {
     "name": "stdout",
     "output_type": "stream",
     "text": [
      "--- Loading PDF document ---\n",
      "Loaded 374 pages from PDF\n"
     ]
    }
   ],
   "execution_count": 9,
   "source": [
    "pdf_path = \"../Data/Startup Course Text Data.pdf\" \n",
    "\n",
    "print(\"--- Loading PDF document ---\")\n",
    "loader = PyPDFLoader(pdf_path) \n",
    "documents = loader.load()\n",
    "\n",
    "print(f\"Loaded {len(documents)} pages from PDF\")"
   ],
   "id": "59aa6b5d"
  },
  {
   "metadata": {},
   "cell_type": "code",
   "outputs": [],
   "execution_count": 10,
   "source": [
    "text_splitter = CharacterTextSplitter(chunk_size=1000, chunk_overlap=200)  # Adding some overlap for better context\n",
    "docs = text_splitter.split_documents(documents)"
   ],
   "id": "b15ea290"
  },
  {
   "metadata": {},
   "cell_type": "code",
   "outputs": [
    {
     "name": "stdout",
     "output_type": "stream",
     "text": [
      "\n",
      "--- Document Chunks Information ---\n",
      "Number of document chunks: 374\n"
     ]
    }
   ],
   "execution_count": 11,
   "source": [
    "print(\"\\n--- Document Chunks Information ---\")\n",
    "print(f\"Number of document chunks: {len(docs)}\")"
   ],
   "id": "4184c70e"
  },
  {
   "metadata": {},
   "cell_type": "code",
   "outputs": [],
   "execution_count": 12,
   "source": [
    "def create_vector_store(docs, embeddings, store_name):\n",
    "    persistent_directory = \"./VectorStoresOld\" + store_name\n",
    "\n",
    "    print(f\"\\n--- Creating vector store {store_name} ---\")\n",
    "\n",
    "    Chroma.from_documents(docs, embeddings, persist_directory=persistent_directory)\n",
    "    \n",
    "    print(f\"--- Finished creating vector store {store_name} ---\")"
   ],
   "id": "8886f7e4"
  },
  {
   "metadata": {},
   "cell_type": "code",
   "outputs": [
    {
     "name": "stderr",
     "output_type": "stream",
     "text": [
      "/Users/avivashooman/Downloads/GenAI_project-main_new copy/GenAIProjectCopy/.venv/lib/python3.10/site-packages/sentence_transformers/cross_encoder/CrossEncoder.py:11: TqdmExperimentalWarning: Using `tqdm.autonotebook.tqdm` in notebook mode. Use `tqdm.tqdm` instead to force console mode (e.g. in jupyter console)\n",
      "  from tqdm.autonotebook import tqdm, trange\n"
     ]
    }
   ],
   "execution_count": 13,
   "source": [
    "huggingface_embeddings = HuggingFaceEmbeddings(\n",
    "    model_name=\"sentence-transformers/all-mpnet-base-v2\"\n",
    ")"
   ],
   "id": "77d8aeb7"
  },
  {
   "metadata": {},
   "cell_type": "code",
   "outputs": [
    {
     "name": "stdout",
     "output_type": "stream",
     "text": [
      "\n",
      "--- Creating vector store /startup_masterclass_vector_store ---\n",
      "--- Finished creating vector store /startup_masterclass_vector_store ---\n"
     ]
    }
   ],
   "execution_count": 14,
   "source": [
    "# Create the vector store for the startup masterclass\n",
    "create_vector_store(docs, huggingface_embeddings, \"/startup_masterclass_vector_store\")"
   ],
   "id": "c8ccf1eb"
  }
 ],
 "metadata": {
  "kernelspec": {
   "display_name": "bot",
   "language": "python",
   "name": "python3"
  },
  "language_info": {
   "codemirror_mode": {
    "name": "ipython",
    "version": 3
   },
   "file_extension": ".py",
   "mimetype": "text/x-python",
   "name": "python",
   "nbconvert_exporter": "python",
   "pygments_lexer": "ipython3",
   "version": "3.10.14"
  }
 },
 "nbformat": 4,
 "nbformat_minor": 5
}
